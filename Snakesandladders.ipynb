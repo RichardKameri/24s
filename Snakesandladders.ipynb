{
  "nbformat": 4,
  "nbformat_minor": 0,
  "metadata": {
    "colab": {
      "provenance": [],
      "authorship_tag": "ABX9TyOFny+124FTq7lu5ir9g1fI",
      "include_colab_link": true
    },
    "kernelspec": {
      "name": "python3",
      "display_name": "Python 3"
    },
    "language_info": {
      "name": "python"
    }
  },
  "cells": [
    {
      "cell_type": "markdown",
      "metadata": {
        "id": "view-in-github",
        "colab_type": "text"
      },
      "source": [
        "<a href=\"https://colab.research.google.com/github/RichardKameri/24s/blob/main/Snakesandladders.ipynb\" target=\"_parent\"><img src=\"https://colab.research.google.com/assets/colab-badge.svg\" alt=\"Open In Colab\"/></a>"
      ]
    },
    {
      "cell_type": "code",
      "execution_count": null,
      "metadata": {
        "colab": {
          "base_uri": "https://localhost:8080/"
        },
        "id": "AUmZVntjTsyr",
        "outputId": "cb634642-c248-4b80-ef4e-3b9afbaf7da7"
      },
      "outputs": [
        {
          "output_type": "stream",
          "name": "stdout",
          "text": [
            "🎲 Welcome to Snakes and Ladders!\n",
            "First to reach 100 wins!\n",
            "\n"
          ]
        }
      ],
      "source": [
        "import random\n",
        "\n",
        "# Board setup: ladders and snakes\n",
        "ladders = {\n",
        "    3: 22,\n",
        "    5: 8,\n",
        "    11: 26,\n",
        "    20: 29,\n",
        "    28: 55,\n",
        "    36: 44,\n",
        "    48: 72,\n",
        "    71: 92,\n",
        "    80: 99\n",
        "}\n",
        "\n",
        "snakes = {\n",
        "    27: 1,\n",
        "    21: 9,\n",
        "    17: 4,\n",
        "    54: 34,\n",
        "    62: 18,\n",
        "    64: 60,\n",
        "    87: 24,\n",
        "    93: 73,\n",
        "    95: 75,\n",
        "    98: 79\n",
        "}\n",
        "\n",
        "# Player positions\n",
        "positions = {\n",
        "    \"Player 1\": 0,\n",
        "    \"Player 2\": 0\n",
        "}\n",
        "\n",
        "def roll_dice():\n",
        "    return random.randint(1, 6)\n",
        "\n",
        "def move(player):\n",
        "    input(f\"\\n{player}'s turn. Press Enter to roll the dice...\")\n",
        "    dice = roll_dice()\n",
        "    print(f\"{player} rolled a {dice}\")\n",
        "\n",
        "    current_pos = positions[player]\n",
        "    new_pos = current_pos + dice\n",
        "\n",
        "    if new_pos > 100:\n",
        "        print(f\"{player} rolled too high and stays at {current_pos}\")\n",
        "        return\n",
        "\n",
        "    print(f\"{player} moves from {current_pos} to {new_pos}\")\n",
        "\n",
        "    # Check for snakes or ladders\n",
        "    if new_pos in ladders:\n",
        "        final_pos = ladders[new_pos]\n",
        "        print(f\"Ladder! {player} climbs up to {final_pos}\")\n",
        "    elif new_pos in snakes:\n",
        "        final_pos = snakes[new_pos]\n",
        "        print(f\"Snake! {player} slides down to {final_pos}\")\n",
        "    else:\n",
        "        final_pos = new_pos\n",
        "\n",
        "    positions[player] = final_pos\n",
        "\n",
        "def check_winner():\n",
        "    for player, pos in positions.items():\n",
        "        if pos == 100:\n",
        "            print(f\"\\n🎉 {player} wins the game! 🎉\")\n",
        "            return True\n",
        "    return False\n",
        "\n",
        "def play_game():\n",
        "    print(\"🎲 Welcome to Snakes and Ladders!\")\n",
        "    print(\"First to reach 100 wins!\\n\")\n",
        "\n",
        "    while True:\n",
        "        for player in positions:\n",
        "            move(player)\n",
        "            if check_winner():\n",
        "                return\n",
        "\n",
        "if __name__ == \"__main__\":\n",
        "    play_game()\n"
      ]
    }
  ]
}