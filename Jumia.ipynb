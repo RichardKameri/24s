{
  "nbformat": 4,
  "nbformat_minor": 0,
  "metadata": {
    "colab": {
      "provenance": [],
      "toc_visible": true,
      "mount_file_id": "1Bcw30MAlAUIOVTg-3imowDfWWISEzHbN",
      "authorship_tag": "ABX9TyOKgaqzWP/d3NgQmXlmO5BU",
      "include_colab_link": true
    },
    "kernelspec": {
      "name": "python3",
      "display_name": "Python 3"
    },
    "language_info": {
      "name": "python"
    }
  },
  "cells": [
    {
      "cell_type": "markdown",
      "metadata": {
        "id": "view-in-github",
        "colab_type": "text"
      },
      "source": [
        "<a href=\"https://colab.research.google.com/github/RichardKameri/24s/blob/main/Jumia.ipynb\" target=\"_parent\"><img src=\"https://colab.research.google.com/assets/colab-badge.svg\" alt=\"Open In Colab\"/></a>"
      ]
    },
    {
      "cell_type": "code",
      "execution_count": 6,
      "metadata": {
        "colab": {
          "base_uri": "https://localhost:8080/"
        },
        "id": "XzhPF2t_RGbU",
        "outputId": "bdc72ee4-752f-485d-ce08-17108bf15c38"
      },
      "outputs": [
        {
          "output_type": "stream",
          "name": "stdout",
          "text": [
            "Scraping page 1...\n",
            "Scraping page 2...\n",
            "Scraping page 3...\n",
            "Data saved to 'jumia_smartphones.csv'\n"
          ]
        }
      ],
      "source": [
        "import requests\n",
        "from bs4 import BeautifulSoup\n",
        "import pandas as pd\n",
        "import time\n",
        "\n",
        "# Base URL (you can change the search query)\n",
        "BASE_URL = \"https://www.jumia.co.ke/catalog/?q=smartphones\"\n",
        "\n",
        "# Set up headers to mimic a real browser\n",
        "HEADERS = {\n",
        "    \"User-Agent\": \"Mozilla/5.0 (Windows NT 10.0; Win64; x64)\"\n",
        "}\n",
        "\n",
        "# Create lists to hold data\n",
        "product_names = []\n",
        "brands = []\n",
        "prices = []\n",
        "discounts = []\n",
        "reviews = []\n",
        "ratings = []\n",
        "\n",
        "# Number of pages to scrape\n",
        "NUM_PAGES = 3\n",
        "\n",
        "for page in range(1, NUM_PAGES + 1):\n",
        "    print(f\"Scraping page {page}...\")\n",
        "    url = f\"{BASE_URL}&page={page}\"\n",
        "    response = requests.get(url, headers=HEADERS)\n",
        "    soup = BeautifulSoup(response.text, 'html.parser')\n",
        "\n",
        "    products = soup.find_all('article', class_='prd')\n",
        "\n",
        "    for product in products:\n",
        "        # Product Name\n",
        "        name_tag = product.find('h3', class_='name')\n",
        "        product_name = name_tag.text.strip() if name_tag else \"N/A\"\n",
        "        product_names.append(product_name)\n",
        "\n",
        "        # Brand Name (usually the first word of the product name)\n",
        "        brand = product_name.split()[0] if product_name != \"N/A\" else \"N/A\"\n",
        "        brands.append(brand)\n",
        "\n",
        "        # Price\n",
        "        price_tag = product.find('div', class_='prc')\n",
        "        price = price_tag.text.replace('KSh', '').replace(',', '').strip() if price_tag else \"N/A\"\n",
        "        prices.append(price)\n",
        "\n",
        "        # Discount\n",
        "        discount_tag = product.find('div', class_='bdg _dsct')\n",
        "        discount = discount_tag.text.strip().replace('-', '') if discount_tag else \"0%\"\n",
        "        discounts.append(discount)\n",
        "\n",
        "        # Reviews\n",
        "        review_tag = product.find('div', class_='stars _s')\n",
        "        review_count = review_tag.get('aria-label') if review_tag else \"0\"\n",
        "        total_reviews = review_count.split()[0] if review_count != \"0\" else \"0\"\n",
        "        reviews.append(total_reviews)\n",
        "\n",
        "        # Rating (from star width)\n",
        "        rating_tag = product.find('div', class_='stars _s')\n",
        "        if rating_tag and rating_tag.find('div'):\n",
        "            style = rating_tag.find('div').get('style', '')\n",
        "            try:\n",
        "                width_percent = float(style.replace('width:', '').replace('%', '').strip())\n",
        "                rating = round((width_percent / 100) * 5, 1)\n",
        "            except:\n",
        "                rating = \"N/A\"\n",
        "        else:\n",
        "            rating = \"N/A\"\n",
        "        ratings.append(rating)\n",
        "\n",
        "    time.sleep(1)  # Be polite and avoid hitting the server too fast\n",
        "\n",
        "# Create DataFrame\n",
        "df = pd.DataFrame({\n",
        "    \"Product Name\": product_names,\n",
        "    \"Brand\": brands,\n",
        "    \"Price (Ksh)\": prices,\n",
        "    \"Discount (%)\": discounts,\n",
        "    \"Total Reviews\": reviews,\n",
        "    \"Rating (out of 5)\": ratings\n",
        "})\n",
        "\n",
        "# Save to CSV\n",
        "df.to_csv(\"jumia_smartphones.csv\", index=False)\n",
        "print(\"Data saved to 'jumia_smartphones.csv'\")\n"
      ]
    }
  ]
}