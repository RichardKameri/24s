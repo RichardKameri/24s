{
  "nbformat": 4,
  "nbformat_minor": 0,
  "metadata": {
    "colab": {
      "provenance": [],
      "authorship_tag": "ABX9TyOZp6seasmwmeCjqU02L521",
      "include_colab_link": true
    },
    "kernelspec": {
      "name": "python3",
      "display_name": "Python 3"
    },
    "language_info": {
      "name": "python"
    }
  },
  "cells": [
    {
      "cell_type": "markdown",
      "metadata": {
        "id": "view-in-github",
        "colab_type": "text"
      },
      "source": [
        "<a href=\"https://colab.research.google.com/github/RichardKameri/24s/blob/main/LibraryManagementsystem.ipynb\" target=\"_parent\"><img src=\"https://colab.research.google.com/assets/colab-badge.svg\" alt=\"Open In Colab\"/></a>"
      ]
    },
    {
      "cell_type": "code",
      "execution_count": null,
      "metadata": {
        "colab": {
          "base_uri": "https://localhost:8080/"
        },
        "id": "nRIEiDXXY99A",
        "outputId": "6e42e3f1-ff65-47e2-a108-3a533d5bdcc4"
      },
      "outputs": [
        {
          "output_type": "stream",
          "name": "stdout",
          "text": [
            "\n",
            "--- Library Menu ---\n",
            "1. Display available books\n",
            "2. Add a book\n",
            "3. Borrow a book\n",
            "4. Return a book\n",
            "5. Exit\n"
          ]
        }
      ],
      "source": [
        "class Library:\n",
        "    def __init__(self, name):\n",
        "        self.name = name\n",
        "        self.books = []  # List to store book titles\n",
        "        self.lent_books = {}  # Dict to map borrowed books to users\n",
        "\n",
        "    def display_books(self):\n",
        "        if not self.books:\n",
        "            print(\"No books currently in the library.\")\n",
        "        else:\n",
        "            print(\"\\nAvailable Books:\")\n",
        "            for book in self.books:\n",
        "                if book not in self.lent_books:\n",
        "                    print(f\"- {book}\")\n",
        "\n",
        "    def add_book(self, book):\n",
        "        self.books.append(book)\n",
        "        print(f'\"{book}\" has been added to the library.')\n",
        "\n",
        "    def lend_book(self, book, user):\n",
        "        if book in self.books and book not in self.lent_books:\n",
        "            self.lent_books[book] = user\n",
        "            print(f'\"{book}\" has been lent to {user}.')\n",
        "        elif book in self.lent_books:\n",
        "            print(f'Sorry, \"{book}\" is already borrowed by {self.lent_books[book]}.')\n",
        "        else:\n",
        "            print(f'\"{book}\" does not exist in the library.')\n",
        "\n",
        "    def return_book(self, book):\n",
        "        if book in self.lent_books:\n",
        "            del self.lent_books[book]\n",
        "            print(f'\"{book}\" has been returned. Thank you!')\n",
        "        else:\n",
        "            print(f'\"{book}\" was not borrowed or does not exist in our records.')\n",
        "\n",
        "# Main loop\n",
        "def main():\n",
        "    lib = Library(\"TechKidz Library\")\n",
        "\n",
        "    while True:\n",
        "        print(\"\\n--- Library Menu ---\")\n",
        "        print(\"1. Display available books\")\n",
        "        print(\"2. Add a book\")\n",
        "        print(\"3. Borrow a book\")\n",
        "        print(\"4. Return a book\")\n",
        "        print(\"5. Exit\")\n",
        "\n",
        "        choice = input(\"Enter your choice (1-5): \").strip()\n",
        "\n",
        "        if choice == '1':\n",
        "            lib.display_books()\n",
        "        elif choice == '2':\n",
        "            book = input(\"Enter the name of the book to add: \")\n",
        "            lib.add_book(book)\n",
        "        elif choice == '3':\n",
        "            book = input(\"Enter the name of the book to borrow: \")\n",
        "            user = input(\"Enter your name: \")\n",
        "            lib.lend_book(book, user)\n",
        "        elif choice == '4':\n",
        "            book = input(\"Enter the name of the book to return: \")\n",
        "            lib.return_book(book)\n",
        "        elif choice == '5':\n",
        "            print(\"Thank you for using the library system!\")\n",
        "            break\n",
        "        else:\n",
        "            print(\"Invalid choice. Please select a valid option.\")\n",
        "\n",
        "if __name__ == \"__main__\":\n",
        "    main()\n"
      ]
    }
  ]
}