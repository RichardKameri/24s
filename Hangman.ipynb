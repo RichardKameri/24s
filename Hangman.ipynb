{
  "nbformat": 4,
  "nbformat_minor": 0,
  "metadata": {
    "colab": {
      "provenance": [],
      "authorship_tag": "ABX9TyPZfHoDBp6ms7xCyRER4r9s",
      "include_colab_link": true
    },
    "kernelspec": {
      "name": "python3",
      "display_name": "Python 3"
    },
    "language_info": {
      "name": "python"
    }
  },
  "cells": [
    {
      "cell_type": "markdown",
      "metadata": {
        "id": "view-in-github",
        "colab_type": "text"
      },
      "source": [
        "<a href=\"https://colab.research.google.com/github/RichardKameri/24s/blob/main/Hangman.ipynb\" target=\"_parent\"><img src=\"https://colab.research.google.com/assets/colab-badge.svg\" alt=\"Open In Colab\"/></a>"
      ]
    },
    {
      "cell_type": "code",
      "source": [
        "import random\n",
        "\n",
        "# List of words to choose from\n",
        "words = ['python', 'hangman', 'developer', 'challenge', 'keyboard', 'function']\n",
        "\n",
        "def get_word():\n",
        "    return random.choice(words)\n",
        "\n",
        "def play_hangman():\n",
        "    word = get_word()\n",
        "    word_letters = set(word)\n",
        "    guessed_letters = set()\n",
        "    tries = 6\n",
        "\n",
        "    print(\"Welcome to Hangman!\")\n",
        "\n",
        "    while tries > 0 and word_letters:\n",
        "        # Display current progress\n",
        "        display_word = [letter if letter in guessed_letters else '_' for letter in word]\n",
        "        print(\"Word:\", ' '.join(display_word))\n",
        "        print(f\"Guessed letters: {' '.join(sorted(guessed_letters))}\")\n",
        "        print(f\"Tries left: {tries}\")\n",
        "\n",
        "        # Get user input\n",
        "        guess = input(\"Guess a letter: \").lower()\n",
        "\n",
        "        if not guess.isalpha() or len(guess) != 1:\n",
        "            print(\"Please enter a single valid letter.\\n\")\n",
        "            continue\n",
        "\n",
        "        if guess in guessed_letters:\n",
        "            print(\"You already guessed that letter.\\n\")\n",
        "            continue\n",
        "\n",
        "        guessed_letters.add(guess)\n",
        "\n",
        "        if guess in word_letters:\n",
        "            word_letters.remove(guess)\n",
        "            print(\"Correct guess!\\n\")\n",
        "        else:\n",
        "            tries -= 1\n",
        "            print(\"Wrong guess!\\n\")\n",
        "\n",
        "    # End of game\n",
        "    if not word_letters:\n",
        "        print(f\"🎉 You won! The word was: {word}\")\n",
        "    else:\n",
        "        print(f\"💀 Game Over! The word was: {word}\")\n",
        "\n",
        "# Run the game\n",
        "if __name__ == \"__main__\":\n",
        "    play_hangman()\n"
      ],
      "metadata": {
        "colab": {
          "base_uri": "https://localhost:8080/"
        },
        "id": "SabowJTGOUX2",
        "outputId": "e6ed3f91-9bb0-483a-f136-83003c864290"
      },
      "execution_count": null,
      "outputs": [
        {
          "output_type": "stream",
          "name": "stdout",
          "text": [
            "Welcome to Hangman!\n",
            "Word: _ _ _ _ _ _ _ _\n",
            "Guessed letters: \n",
            "Tries left: 6\n"
          ]
        }
      ]
    },
    {
      "cell_type": "code",
      "execution_count": null,
      "metadata": {
        "id": "0FbkZRMcOMO3"
      },
      "outputs": [],
      "source": []
    }
  ]
}