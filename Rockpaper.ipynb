{
  "nbformat": 4,
  "nbformat_minor": 0,
  "metadata": {
    "colab": {
      "provenance": [],
      "authorship_tag": "ABX9TyMDcW3Zr87m9hW4L1T6HESv",
      "include_colab_link": true
    },
    "kernelspec": {
      "name": "python3",
      "display_name": "Python 3"
    },
    "language_info": {
      "name": "python"
    }
  },
  "cells": [
    {
      "cell_type": "markdown",
      "metadata": {
        "id": "view-in-github",
        "colab_type": "text"
      },
      "source": [
        "<a href=\"https://colab.research.google.com/github/RichardKameri/24s/blob/main/Rockpaper.ipynb\" target=\"_parent\"><img src=\"https://colab.research.google.com/assets/colab-badge.svg\" alt=\"Open In Colab\"/></a>"
      ]
    },
    {
      "cell_type": "code",
      "execution_count": null,
      "metadata": {
        "colab": {
          "base_uri": "https://localhost:8080/"
        },
        "id": "Ia9dREd1LzXP",
        "outputId": "e5213637-64db-422d-bdf5-06f61e58bbc9"
      },
      "outputs": [
        {
          "output_type": "stream",
          "name": "stdout",
          "text": [
            "Welcome to Rock-Paper-Scissors!\n"
          ]
        }
      ],
      "source": [
        "import random\n",
        "\n",
        "def get_user_choice():\n",
        "    choice = input(\"Enter Rock, Paper, or Scissors: \").capitalize()\n",
        "    while choice not in ['Rock', 'Paper', 'Scissors']:\n",
        "        choice = input(\"Invalid choice. Please enter Rock, Paper, or Scissors: \").capitalize()\n",
        "    return choice\n",
        "\n",
        "def get_computer_choice():\n",
        "    return random.choice(['Rock', 'Paper', 'Scissors'])\n",
        "\n",
        "def determine_winner(user, computer):\n",
        "    if user == computer:\n",
        "        return \"It's a tie!\"\n",
        "    elif (user == 'Rock' and computer == 'Scissors') or \\\n",
        "         (user == 'Scissors' and computer == 'Paper') or \\\n",
        "         (user == 'Paper' and computer == 'Rock'):\n",
        "        return \"You win!\"\n",
        "    else:\n",
        "        return \"Computer wins!\"\n",
        "\n",
        "def play():\n",
        "    print(\"Welcome to Rock-Paper-Scissors!\")\n",
        "    while True:\n",
        "        user_choice = get_user_choice()\n",
        "        computer_choice = get_computer_choice()\n",
        "        print(f\"\\nYou chose: {user_choice}\")\n",
        "        print(f\"Computer chose: {computer_choice}\")\n",
        "        print(determine_winner(user_choice, computer_choice))\n",
        "\n",
        "        play_again = input(\"\\nDo you want to play again? (yes/no): \").lower()\n",
        "        if play_again != 'yes':\n",
        "            print(\"Thanks for playing!\")\n",
        "            break\n",
        "\n",
        "if __name__ == \"__main__\":\n",
        "    play()\n"
      ]
    }
  ]
}