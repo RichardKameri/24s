{
  "nbformat": 4,
  "nbformat_minor": 0,
  "metadata": {
    "colab": {
      "provenance": [],
      "authorship_tag": "ABX9TyM2undE4xD+kUX9r8DAkVrb",
      "include_colab_link": true
    },
    "kernelspec": {
      "name": "python3",
      "display_name": "Python 3"
    },
    "language_info": {
      "name": "python"
    }
  },
  "cells": [
    {
      "cell_type": "markdown",
      "metadata": {
        "id": "view-in-github",
        "colab_type": "text"
      },
      "source": [
        "<a href=\"https://colab.research.google.com/github/RichardKameri/24s/blob/main/PythonCapstone.ipynb\" target=\"_parent\"><img src=\"https://colab.research.google.com/assets/colab-badge.svg\" alt=\"Open In Colab\"/></a>"
      ]
    },
    {
      "cell_type": "code",
      "source": [
        "from IPython import get_ipython\n",
        "from IPython.display import display\n",
        "# %%\n",
        "# Google Calendar API Scheduler\n",
        "\n",
        "from google.oauth2 import service_account\n",
        "from googleapiclient.discovery import build\n",
        "import datetime\n",
        "\n",
        "def create_event(summary, location, description, start_time, end_time):\n",
        "    SCOPES = ['https://www.googleapis.com/auth/calendar']\n",
        "    # Replace with the actual path to your service account file\n",
        "    SERVICE_ACCOUNT_FILE = '/path/to/your/service_account_file.json'\n",
        "\n",
        "    credentials = service_account.Credentials.from_service_account_file(\n",
        "        SERVICE_ACCOUNT_FILE, scopes=SCOPES)\n",
        "\n",
        "    service = build('calendar', 'v3', credentials=credentials)\n",
        "\n",
        "    event = {\n",
        "        'summary': summary,\n",
        "        'location': location,\n",
        "        'description': description,\n",
        "        'start': {\n",
        "            'dateTime': start_time.isoformat(),\n",
        "            'timeZone': 'UTC',\n",
        "        },\n",
        "        'end': {\n",
        "            'dateTime': end_time.isoformat(),\n",
        "            'timeZone': 'UTC',\n",
        "        },\n",
        "    }\n",
        "\n",
        "    event_result = service.events().insert(calendarId='primary', body=event).execute()\n",
        "\n",
        "    print(\"Event created: \", event_result.get('htmlLink'))\n",
        "\n",
        "def main():\n",
        "    print(\"Google Calendar API Scheduler\")\n",
        "    summary = input(\"Enter event summary: \")\n",
        "    location = input(\"Enter event location: \")\n",
        "    description = input(\"Enter event description: \")\n",
        "\n",
        "    start_time_str = input(\"Enter event start time (YYYY-MM-DD HH:MM:SS): \")\n",
        "    end_time_str = input(\"Enter event end time (YYYY-MM-DD HH:MM:SS): \")\n",
        "\n",
        "    start_time = datetime.datetime.strptime(start_time_str, \"%Y-%m-%d %H:%M:%S\")\n",
        "    end_time = datetime.datetime.strptime(end_time_str, \"%Y-%m-%d %H:%M:%S\")\n",
        "\n",
        "    create_event(summary, location, description, start_time, end_time)\n",
        "\n",
        "if __name__ == \"__main__\":\n",
        "    main()"
      ],
      "metadata": {
        "colab": {
          "base_uri": "https://localhost:8080/",
          "height": 426
        },
        "id": "QodwfZRDYXZA",
        "outputId": "7a259780-8ca6-4596-ec27-5b14be1f4930"
      },
      "execution_count": 10,
      "outputs": [
        {
          "name": "stdout",
          "output_type": "stream",
          "text": [
            "Google Calendar API Scheduler\n",
            "Enter event summary: Football\n",
            "Enter event location: Talanta\n",
            "Enter event description: Tournament\n",
            "Enter event start time (YYYY-MM-DD HH:MM:SS): 2025-03-22 14:00:00\n",
            "Enter event end time (YYYY-MM-DD HH:MM:SS): 2025-03-22  18:00:00\n"
          ]
        },
        {
          "output_type": "error",
          "ename": "FileNotFoundError",
          "evalue": "[Errno 2] No such file or directory: '/path/to/your/service_account_file.json'",
          "traceback": [
            "\u001b[0;31m---------------------------------------------------------------------------\u001b[0m",
            "\u001b[0;31mFileNotFoundError\u001b[0m                         Traceback (most recent call last)",
            "\u001b[0;32m<ipython-input-10-a33672df48d4>\u001b[0m in \u001b[0;36m<cell line: 0>\u001b[0;34m()\u001b[0m\n\u001b[1;32m     51\u001b[0m \u001b[0;34m\u001b[0m\u001b[0m\n\u001b[1;32m     52\u001b[0m \u001b[0;32mif\u001b[0m \u001b[0m__name__\u001b[0m \u001b[0;34m==\u001b[0m \u001b[0;34m\"__main__\"\u001b[0m\u001b[0;34m:\u001b[0m\u001b[0;34m\u001b[0m\u001b[0;34m\u001b[0m\u001b[0m\n\u001b[0;32m---> 53\u001b[0;31m     \u001b[0mmain\u001b[0m\u001b[0;34m(\u001b[0m\u001b[0;34m)\u001b[0m\u001b[0;34m\u001b[0m\u001b[0;34m\u001b[0m\u001b[0m\n\u001b[0m",
            "\u001b[0;32m<ipython-input-10-a33672df48d4>\u001b[0m in \u001b[0;36mmain\u001b[0;34m()\u001b[0m\n\u001b[1;32m     48\u001b[0m     \u001b[0mend_time\u001b[0m \u001b[0;34m=\u001b[0m \u001b[0mdatetime\u001b[0m\u001b[0;34m.\u001b[0m\u001b[0mdatetime\u001b[0m\u001b[0;34m.\u001b[0m\u001b[0mstrptime\u001b[0m\u001b[0;34m(\u001b[0m\u001b[0mend_time_str\u001b[0m\u001b[0;34m,\u001b[0m \u001b[0;34m\"%Y-%m-%d %H:%M:%S\"\u001b[0m\u001b[0;34m)\u001b[0m\u001b[0;34m\u001b[0m\u001b[0;34m\u001b[0m\u001b[0m\n\u001b[1;32m     49\u001b[0m \u001b[0;34m\u001b[0m\u001b[0m\n\u001b[0;32m---> 50\u001b[0;31m     \u001b[0mcreate_event\u001b[0m\u001b[0;34m(\u001b[0m\u001b[0msummary\u001b[0m\u001b[0;34m,\u001b[0m \u001b[0mlocation\u001b[0m\u001b[0;34m,\u001b[0m \u001b[0mdescription\u001b[0m\u001b[0;34m,\u001b[0m \u001b[0mstart_time\u001b[0m\u001b[0;34m,\u001b[0m \u001b[0mend_time\u001b[0m\u001b[0;34m)\u001b[0m\u001b[0;34m\u001b[0m\u001b[0;34m\u001b[0m\u001b[0m\n\u001b[0m\u001b[1;32m     51\u001b[0m \u001b[0;34m\u001b[0m\u001b[0m\n\u001b[1;32m     52\u001b[0m \u001b[0;32mif\u001b[0m \u001b[0m__name__\u001b[0m \u001b[0;34m==\u001b[0m \u001b[0;34m\"__main__\"\u001b[0m\u001b[0;34m:\u001b[0m\u001b[0;34m\u001b[0m\u001b[0;34m\u001b[0m\u001b[0m\n",
            "\u001b[0;32m<ipython-input-10-a33672df48d4>\u001b[0m in \u001b[0;36mcreate_event\u001b[0;34m(summary, location, description, start_time, end_time)\u001b[0m\n\u001b[1;32m     13\u001b[0m     \u001b[0mSERVICE_ACCOUNT_FILE\u001b[0m \u001b[0;34m=\u001b[0m \u001b[0;34m'/path/to/your/service_account_file.json'\u001b[0m\u001b[0;34m\u001b[0m\u001b[0;34m\u001b[0m\u001b[0m\n\u001b[1;32m     14\u001b[0m \u001b[0;34m\u001b[0m\u001b[0m\n\u001b[0;32m---> 15\u001b[0;31m     credentials = service_account.Credentials.from_service_account_file(\n\u001b[0m\u001b[1;32m     16\u001b[0m         SERVICE_ACCOUNT_FILE, scopes=SCOPES)\n\u001b[1;32m     17\u001b[0m \u001b[0;34m\u001b[0m\u001b[0m\n",
            "\u001b[0;32m/usr/local/lib/python3.11/dist-packages/google/oauth2/service_account.py\u001b[0m in \u001b[0;36mfrom_service_account_file\u001b[0;34m(cls, filename, **kwargs)\u001b[0m\n\u001b[1;32m    258\u001b[0m                 \u001b[0mcredentials\u001b[0m\u001b[0;34m.\u001b[0m\u001b[0;34m\u001b[0m\u001b[0;34m\u001b[0m\u001b[0m\n\u001b[1;32m    259\u001b[0m         \"\"\"\n\u001b[0;32m--> 260\u001b[0;31m         info, signer = _service_account_info.from_filename(\n\u001b[0m\u001b[1;32m    261\u001b[0m             \u001b[0mfilename\u001b[0m\u001b[0;34m,\u001b[0m \u001b[0mrequire\u001b[0m\u001b[0;34m=\u001b[0m\u001b[0;34m[\u001b[0m\u001b[0;34m\"client_email\"\u001b[0m\u001b[0;34m,\u001b[0m \u001b[0;34m\"token_uri\"\u001b[0m\u001b[0;34m]\u001b[0m\u001b[0;34m\u001b[0m\u001b[0;34m\u001b[0m\u001b[0m\n\u001b[1;32m    262\u001b[0m         )\n",
            "\u001b[0;32m/usr/local/lib/python3.11/dist-packages/google/auth/_service_account_info.py\u001b[0m in \u001b[0;36mfrom_filename\u001b[0;34m(filename, require, use_rsa_signer)\u001b[0m\n\u001b[1;32m     76\u001b[0m             \u001b[0minfo\u001b[0m \u001b[0;32mand\u001b[0m \u001b[0ma\u001b[0m \u001b[0msigner\u001b[0m \u001b[0minstance\u001b[0m\u001b[0;34m.\u001b[0m\u001b[0;34m\u001b[0m\u001b[0;34m\u001b[0m\u001b[0m\n\u001b[1;32m     77\u001b[0m     \"\"\"\n\u001b[0;32m---> 78\u001b[0;31m     \u001b[0;32mwith\u001b[0m \u001b[0mio\u001b[0m\u001b[0;34m.\u001b[0m\u001b[0mopen\u001b[0m\u001b[0;34m(\u001b[0m\u001b[0mfilename\u001b[0m\u001b[0;34m,\u001b[0m \u001b[0;34m\"r\"\u001b[0m\u001b[0;34m,\u001b[0m \u001b[0mencoding\u001b[0m\u001b[0;34m=\u001b[0m\u001b[0;34m\"utf-8\"\u001b[0m\u001b[0;34m)\u001b[0m \u001b[0;32mas\u001b[0m \u001b[0mjson_file\u001b[0m\u001b[0;34m:\u001b[0m\u001b[0;34m\u001b[0m\u001b[0;34m\u001b[0m\u001b[0m\n\u001b[0m\u001b[1;32m     79\u001b[0m         \u001b[0mdata\u001b[0m \u001b[0;34m=\u001b[0m \u001b[0mjson\u001b[0m\u001b[0;34m.\u001b[0m\u001b[0mload\u001b[0m\u001b[0;34m(\u001b[0m\u001b[0mjson_file\u001b[0m\u001b[0;34m)\u001b[0m\u001b[0;34m\u001b[0m\u001b[0;34m\u001b[0m\u001b[0m\n\u001b[1;32m     80\u001b[0m         \u001b[0;32mreturn\u001b[0m \u001b[0mdata\u001b[0m\u001b[0;34m,\u001b[0m \u001b[0mfrom_dict\u001b[0m\u001b[0;34m(\u001b[0m\u001b[0mdata\u001b[0m\u001b[0;34m,\u001b[0m \u001b[0mrequire\u001b[0m\u001b[0;34m=\u001b[0m\u001b[0mrequire\u001b[0m\u001b[0;34m,\u001b[0m \u001b[0muse_rsa_signer\u001b[0m\u001b[0;34m=\u001b[0m\u001b[0muse_rsa_signer\u001b[0m\u001b[0;34m)\u001b[0m\u001b[0;34m\u001b[0m\u001b[0;34m\u001b[0m\u001b[0m\n",
            "\u001b[0;31mFileNotFoundError\u001b[0m: [Errno 2] No such file or directory: '/path/to/your/service_account_file.json'"
          ]
        }
      ]
    },
    {
      "cell_type": "code",
      "source": [
        "# Google Calendar API Scheduler\n",
        "\n",
        "from google.oauth2 import service_account\n",
        "from googleapiclient.discovery import build\n",
        "import datetime\n",
        "import os\n",
        "\n",
        "def create_event(summary, location, description, start_time, end_time):\n",
        "    SCOPES = ['https://www.googleapis.com/auth/calendar']\n",
        "\n",
        "    # Ensure service account file exists\n",
        "    SERVICE_ACCOUNT_FILE = 'service_account.json'\n",
        "    if not os.path.isfile(SERVICE_ACCOUNT_FILE):\n",
        "        print(\"Error: Service account file not found. Ensure it is uploaded and the path is correct.\")\n",
        "        return\n",
        "\n",
        "    credentials = service_account.Credentials.from_service_account_file(\n",
        "        SERVICE_ACCOUNT_FILE, scopes=SCOPES)\n",
        "\n",
        "    service = build('calendar', 'v3', credentials=credentials)\n",
        "\n",
        "    event = {\n",
        "        'summary': summary,\n",
        "        'location': location,\n",
        "        'description': description,\n",
        "        'start': {\n",
        "            'dateTime': start_time.isoformat(),\n",
        "            'timeZone': 'UTC',\n",
        "        },\n",
        "        'end': {\n",
        "            'dateTime': end_time.isoformat(),\n",
        "            'timeZone': 'UTC',\n",
        "        },\n",
        "    }\n",
        "\n",
        "    event_result = service.events().insert(calendarId='primary', body=event).execute()\n",
        "\n",
        "    print(\"Event created: \", event_result.get('htmlLink'))\n",
        "\n",
        "def main():\n",
        "    print(\"Google Calendar API Scheduler\")\n",
        "    summary = input(\"Enter event summary: \")\n",
        "    location = input(\"Enter event location: \")\n",
        "    description = input(\"Enter event description: \")\n",
        "\n",
        "    start_time_str = input(\"Enter event start time (YYYY-MM-DD HH:MM:SS): \")\n",
        "    end_time_str = input(\"Enter event end time (YYYY-MM-DD HH:MM:SS): \")\n",
        "\n",
        "    try:\n",
        "        start_time = datetime.datetime.strptime(start_time_str, \"%Y-%m-%d %H:%M:%S\")\n",
        "        end_time = datetime.datetime.strptime(end_time_str, \"%Y-%m-%d %H:%M:%S\")\n",
        "    except ValueError:\n",
        "        print(\"Error: Invalid date format. Use YYYY-MM-DD HH:MM:SS.\")\n",
        "        return\n",
        "\n",
        "    create_event(summary, location, description, start_time, end_time)\n",
        "\n",
        "if __name__ == \"__main__\":\n",
        "    main()\n"
      ],
      "metadata": {
        "colab": {
          "base_uri": "https://localhost:8080/"
        },
        "id": "xB7vMSgnZTdl",
        "outputId": "4bef3718-9534-4669-d5e9-e48933856119"
      },
      "execution_count": 11,
      "outputs": [
        {
          "output_type": "stream",
          "name": "stdout",
          "text": [
            "Google Calendar API Scheduler\n",
            "Enter event summary: Football\n",
            "Enter event location: Nairobi\n",
            "Enter event description: Tournament\n",
            "Enter event start time (YYYY-MM-DD HH:MM:SS): 2025-03-22 13:00:00\n",
            "Enter event end time (YYYY-MM-DD HH:MM:SS): 2025-03-22 19:00:00\n",
            "Error: Service account file not found. Ensure it is uploaded and the path is correct.\n"
          ]
        }
      ]
    },
    {
      "cell_type": "code",
      "source": [
        "# Google Calendar API Scheduler\n",
        "\n",
        "from google.oauth2 import service_account\n",
        "from googleapiclient.discovery import build\n",
        "import datetime\n",
        "import os\n",
        "\n",
        "def create_event(summary, location, description, start_time, end_time):\n",
        "    SCOPES = ['https://www.googleapis.com/auth/calendar']\n",
        "\n",
        "    # Set the path to your service account file\n",
        "    SERVICE_ACCOUNT_FILE = '/content/service_account.json'  # Ensure you upload your service account JSON file to Google Colab\n",
        "\n",
        "    # Check if the service account file exists\n",
        "    if not os.path.isfile(SERVICE_ACCOUNT_FILE):\n",
        "        print(\"Error: Service account file not found. Ensure it is uploaded and the path is correct.\")\n",
        "        return\n",
        "\n",
        "    credentials = service_account.Credentials.from_service_account_file(\n",
        "        SERVICE_ACCOUNT_FILE, scopes=SCOPES)\n",
        "\n",
        "    service = build('calendar', 'v3', credentials=credentials)\n",
        "\n",
        "    event = {\n",
        "        'summary': summary,\n",
        "        'location': location,\n",
        "        'description': description,\n",
        "        'start': {\n",
        "            'dateTime': start_time.isoformat(),\n",
        "            'timeZone': 'UTC',\n",
        "        },\n",
        "        'end': {\n",
        "            'dateTime': end_time.isoformat(),\n",
        "            'timeZone': 'UTC',\n",
        "        },\n",
        "    }\n",
        "\n",
        "    event_result = service.events().insert(calendarId='primary', body=event).execute()\n",
        "\n",
        "    print(\"Event created: \", event_result.get('htmlLink'))\n",
        "\n",
        "def main():\n",
        "    print(\"Google Calendar API Scheduler\")\n",
        "    print(\"Ensure you have uploaded your service account JSON file to /content/service_account.json\")\n",
        "\n",
        "    summary = input(\"Enter event summary: \")\n",
        "    location = input(\"Enter event location: \")\n",
        "    description = input(\"Enter event description: \")\n",
        "\n",
        "    start_time_str = input(\"Enter event start time (YYYY-MM-DD HH:MM:SS): \")\n",
        "    end_time_str = input(\"Enter event end time (YYYY-MM-DD HH:MM:SS): \")\n",
        "\n",
        "    try:\n",
        "        start_time = datetime.datetime.strptime(start_time_str, \"%Y-%m-%d %H:%M:%S\")\n",
        "        end_time = datetime.datetime.strptime(end_time_str, \"%Y-%m-%d %H:%M:%S\")\n",
        "    except ValueError:\n",
        "        print(\"Error: Invalid date format. Use YYYY-MM-DD HH:MM:SS.\")\n",
        "        return\n",
        "\n",
        "    create_event(summary, location, description, start_time, end_time)\n",
        "\n",
        "if __name__ == \"__main__\":\n",
        "    main()\n"
      ],
      "metadata": {
        "colab": {
          "base_uri": "https://localhost:8080/"
        },
        "id": "ptiejPgMa-I1",
        "outputId": "2a209241-18dc-4490-c829-03669cd4e0b2"
      },
      "execution_count": 12,
      "outputs": [
        {
          "output_type": "stream",
          "name": "stdout",
          "text": [
            "Google Calendar API Scheduler\n",
            "Ensure you have uploaded your service account JSON file to /content/service_account.json\n",
            "Enter event summary: Soccer\n",
            "Enter event location: Kasarani\n",
            "Enter event description: Tournament\n",
            "Enter event start time (YYYY-MM-DD HH:MM:SS): 2025-03-22 13:00:00:00\n",
            "Enter event end time (YYYY-MM-DD HH:MM:SS): 2025-03-22 19:00:00:00\n",
            "Error: Invalid date format. Use YYYY-MM-DD HH:MM:SS.\n"
          ]
        }
      ]
    }
  ]
}