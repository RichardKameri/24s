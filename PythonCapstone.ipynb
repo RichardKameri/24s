{
  "nbformat": 4,
  "nbformat_minor": 0,
  "metadata": {
    "colab": {
      "provenance": [],
      "authorship_tag": "ABX9TyNAkCI8pVMI7AD83xHaWuPy",
      "include_colab_link": true
    },
    "kernelspec": {
      "name": "python3",
      "display_name": "Python 3"
    },
    "language_info": {
      "name": "python"
    }
  },
  "cells": [
    {
      "cell_type": "markdown",
      "metadata": {
        "id": "view-in-github",
        "colab_type": "text"
      },
      "source": [
        "<a href=\"https://colab.research.google.com/github/RichardKameri/24s/blob/main/PythonCapstone.ipynb\" target=\"_parent\"><img src=\"https://colab.research.google.com/assets/colab-badge.svg\" alt=\"Open In Colab\"/></a>"
      ]
    },
    {
      "cell_type": "code",
      "source": [
        "# Google Calendar API Scheduler\n",
        "\n",
        "from google.oauth2 import service_account\n",
        "from googleapiclient.discovery import build\n",
        "import datetime\n",
        "import os\n",
        "\n",
        "def create_event(summary, location, description, start_time, end_time):\n",
        "    SCOPES = ['https://www.googleapis.com/auth/calendar']\n",
        "\n",
        "    # Set the path to your service account file\n",
        "    SERVICE_ACCOUNT_FILE = '/content/service_account.json'  # Ensure you upload your service account JSON file to Google Colab\n",
        "\n",
        "    # Check if the service account file exists\n",
        "    if not os.path.isfile(SERVICE_ACCOUNT_FILE):\n",
        "        print(\"Error: Service account file not found. Ensure it is uploaded and the path is correct.\")\n",
        "        return\n",
        "\n",
        "    credentials = service_account.Credentials.from_service_account_file(\n",
        "        SERVICE_ACCOUNT_FILE, scopes=SCOPES)\n",
        "\n",
        "    service = build('calendar', 'v3', credentials=credentials)\n",
        "\n",
        "    event = {\n",
        "        'summary': summary,\n",
        "        'location': location,\n",
        "        'description': description,\n",
        "        'start': {\n",
        "            'dateTime': start_time.isoformat(),\n",
        "            'timeZone': 'UTC',\n",
        "        },\n",
        "        'end': {\n",
        "            'dateTime': end_time.isoformat(),\n",
        "            'timeZone': 'UTC',\n",
        "        },\n",
        "    }\n",
        "\n",
        "    event_result = service.events().insert(calendarId='primary', body=event).execute()\n",
        "\n",
        "    print(\"Event created: \", event_result.get('htmlLink'))\n",
        "\n",
        "def main():\n",
        "    print(\"Google Calendar API Scheduler\")\n",
        "    print(\"Ensure you have uploaded your service account JSON file to /content/service_account.json\")\n",
        "\n",
        "    summary = input(\"Enter event summary: \")\n",
        "    location = input(\"Enter event location: \")\n",
        "    description = input(\"Enter event description: \")\n",
        "\n",
        "    start_time_str = input(\"Enter event start time (YYYY-MM-DD HH:MM:SS): \")\n",
        "    end_time_str = input(\"Enter event end time (YYYY-MM-DD HH:MM:SS): \")\n",
        "\n",
        "    try:\n",
        "        start_time = datetime.datetime.strptime(start_time_str, \"%Y-%m-%d %H:%M:%S\")\n",
        "        end_time = datetime.datetime.strptime(end_time_str, \"%Y-%m-%d %H:%M:%S\")\n",
        "    except ValueError:\n",
        "        print(\"Error: Invalid date format. Use YYYY-MM-DD HH:MM:SS.\")\n",
        "        return\n",
        "\n",
        "    create_event(summary, location, description, start_time, end_time)\n",
        "\n",
        "if __name__ == \"__main__\":\n",
        "    main()\n"
      ],
      "metadata": {
        "colab": {
          "base_uri": "https://localhost:8080/"
        },
        "id": "ptiejPgMa-I1",
        "outputId": "2a209241-18dc-4490-c829-03669cd4e0b2"
      },
      "execution_count": 12,
      "outputs": [
        {
          "output_type": "stream",
          "name": "stdout",
          "text": [
            "Google Calendar API Scheduler\n",
            "Ensure you have uploaded your service account JSON file to /content/service_account.json\n",
            "Enter event summary: Soccer\n",
            "Enter event location: Kasarani\n",
            "Enter event description: Tournament\n",
            "Enter event start time (YYYY-MM-DD HH:MM:SS): 2025-03-22 13:00:00:00\n",
            "Enter event end time (YYYY-MM-DD HH:MM:SS): 2025-03-22 19:00:00:00\n",
            "Error: Invalid date format. Use YYYY-MM-DD HH:MM:SS.\n"
          ]
        }
      ]
    }
  ]
}